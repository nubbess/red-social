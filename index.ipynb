{
 "cells": [
  {
   "cell_type": "code",
   "execution_count": 1,
   "metadata": {},
   "outputs": [
    {
     "data": {
      "text/plain": [
       "'el resultado de la suma de los digitos es 15'"
      ]
     },
     "execution_count": 1,
     "metadata": {},
     "output_type": "execute_result"
    }
   ],
   "source": [
    "# Ejercicio de suma de dígitos: Escribe una función en Python que tome un número entero como entrada y devuelva la suma de sus dígitos. Por ejemplo, para el número 123, la función debería devolver 6 (1 + 2 + 3).\n",
    "\n",
    "def sumaDigitos (n):\n",
    "    number = n\n",
    "    resultado = 0\n",
    "    digito = 0\n",
    "    while number > 0:\n",
    "        digito = number % 10\n",
    "        resultado += digito\n",
    "        number = number // 10\n",
    "    return f'el resultado de la suma de los digitos es {resultado}' \n",
    "\n",
    "sumaDigitos(1239)\n",
    "        \n",
    "        \n",
    "    \n"
   ]
  },
  {
   "cell_type": "code",
   "execution_count": null,
   "metadata": {},
   "outputs": [],
   "source": [
    "# Ejercicio de lista de números primos: Escribe una función en Python que tome un número entero positivo como entrada y devuelva una lista de todos los números primos hasta ese número.\n",
    "\n",
    "def nps(n):\n",
    "    lista = []\n",
    "    for i in range (2, n+1):\n",
    "        primo = True\n",
    "        for j in range (2, i):\n",
    "            if (i%j==0):\n",
    "                primo = False\n",
    "        if primo:\n",
    "            lista.append(i)\n",
    "    return lista\n",
    "\n",
    "nps(5)\n",
    "\n"
   ]
  },
  {
   "cell_type": "code",
   "execution_count": 1,
   "metadata": {},
   "outputs": [
    {
     "name": "stdout",
     "output_type": "stream",
     "text": [
      "10\n",
      "9\n",
      "8\n",
      "7\n",
      "6\n",
      "5\n",
      "4\n",
      "3\n",
      "2\n",
      "1\n"
     ]
    }
   ],
   "source": [
    "for i in range (10, 0, -1):\n",
    "    print(i)"
   ]
  },
  {
   "cell_type": "code",
   "execution_count": null,
   "metadata": {},
   "outputs": [],
   "source": [
    "type(range)"
   ]
  },
  {
   "cell_type": "code",
   "execution_count": null,
   "metadata": {},
   "outputs": [],
   "source": [
    "# Escribe un programa que calcule el factorial de un número dado.\n",
    "\n",
    "def factorial (n):\n",
    "    resultado = 1\n",
    "    for i in range (1, n + 1):\n",
    "        resultado *= i\n",
    "    return f'el factorial de {n} es {resultado}'\n",
    "        \n",
    "factorial(5)"
   ]
  },
  {
   "cell_type": "code",
   "execution_count": null,
   "metadata": {},
   "outputs": [],
   "source": [
    "# Crea una función que verifique si un número dado es primo.\n",
    "def primi(n):\n",
    "    primo = True\n",
    "    for i in range (2, n):\n",
    "        if (n % i == 0):\n",
    "            primo = False\n",
    "    return 'El numero es primo' if primo else 'El numero no es primo'\n",
    "\n",
    "primi(4)"
   ]
  },
  {
   "cell_type": "code",
   "execution_count": null,
   "metadata": {},
   "outputs": [],
   "source": [
    "# Implementa un programa que convierta grados Celsius a Fahrenheit.\n",
    "\n",
    "def CaF(g):\n",
    "    return f'{g} grado/s Celsius son {(g * 9/5) + 32} grado/s Fahrenheit'\n",
    "\n",
    "CaF(2)\n"
   ]
  },
  {
   "cell_type": "code",
   "execution_count": null,
   "metadata": {},
   "outputs": [],
   "source": [
    "# Escribe un programa que cuente la cantidad de vocales en una cadena dada.\n",
    "\n",
    "def cV (str):\n",
    "    cv = 0\n",
    "    for i in range(len(str)):\n",
    "        if (str.lower()[i] in ['a', 'e', 'i', 'o', 'u']):\n",
    "            cv += 1\n",
    "    return f'La cantidad de vocales es {cv} vocal/es'\n",
    "\n",
    "cV('str')"
   ]
  },
  {
   "cell_type": "code",
   "execution_count": null,
   "metadata": {},
   "outputs": [],
   "source": [
    "# Crea una función que determine si una cadena es un palíndromo.\n",
    "\n",
    "def pal(str):\n",
    "    str = str.lower()\n",
    "    str = str.replace(' ', '')\n",
    "    # en vez de iterar y blabla, existe replace. No se por que si son inmutables puedo hacer esto.\n",
    "    backStr = ''\n",
    "    pal = False\n",
    "\n",
    "    \n",
    "    for caracter in str:\n",
    "        backStr = caracter + backStr\n",
    "        \n",
    "    pal = str == backStr\n",
    "    return 'Es palíndromo' if pal else 'No es palíndromo'\n",
    "        \n",
    "pal('A L a')\n",
    "            \n",
    "        \n"
   ]
  },
  {
   "cell_type": "code",
   "execution_count": null,
   "metadata": {},
   "outputs": [],
   "source": [
    "# Implementa un programa que encuentre la suma de los elementos de un array.\n",
    "\n",
    "def sumArr(arr):\n",
    "    resultado = 0\n",
    "    for item in arr:\n",
    "        resultado += item\n",
    "    return f'La suma de los índices del array es {resultado}'\n",
    "\n",
    "sumArr([1, 2, 3, 4, 5])"
   ]
  },
  {
   "cell_type": "code",
   "execution_count": null,
   "metadata": {},
   "outputs": [],
   "source": [
    "# Escribe un programa que cuente la cantidad de palabras en una cadena.\n",
    "\n",
    "def cant(str):\n",
    "    arr = str.split()\n",
    "    return f'La cadena tiene {len(arr)} palabra/s.'\n",
    "\n",
    "cant('hola mundo xd')"
   ]
  },
  {
   "cell_type": "code",
   "execution_count": null,
   "metadata": {},
   "outputs": [],
   "source": [
    "# Crea una función que devuelva la suma de los dígitos de un número entero.\n",
    "\n",
    "def sD(n):\n",
    "    num = n\n",
    "    resultado = 0\n",
    "    digito = 0\n",
    "    while num > 0:\n",
    "        digito = num % 10\n",
    "        resultado += digito\n",
    "        num = num // 10\n",
    "    return f'El resultado de la suma de los dígitos del entero que ingresó es {resultado}'\n",
    "\n",
    "sD(132)\n"
   ]
  },
  {
   "cell_type": "code",
   "execution_count": null,
   "metadata": {},
   "outputs": [],
   "source": [
    "# Implementa un programa que calcule el área de un triángulo dado su base y altura.\n",
    "\n",
    "def areaT(b, h, unidad = 'cm2'):\n",
    "    return f'El area de su triángulo es {b * h / 2} {unidad}'\n",
    "\n",
    "areaT(10, 3)"
   ]
  },
  {
   "cell_type": "code",
   "execution_count": null,
   "metadata": {},
   "outputs": [],
   "source": [
    "#  Escribe un programa que muestre los números pares del 1 al 50.\n",
    "\n",
    "def pares():\n",
    "    pares = []\n",
    "    for i in range(1, 1):\n",
    "        if i % 2 == 0:\n",
    "            pares.append(i)\n",
    "    return pares if pares else 'No hay pares'\n",
    "\n",
    "pares()\n"
   ]
  },
  {
   "cell_type": "code",
   "execution_count": null,
   "metadata": {},
   "outputs": [],
   "source": [
    "def iAr(arr):\n",
    "    a = []\n",
    "    for i in range(len(arr), 0, -1):\n",
    "        a.append(i)\n",
    "    return a\n",
    "\n",
    "iAr([1, 2, 3])"
   ]
  },
  {
   "cell_type": "code",
   "execution_count": null,
   "metadata": {},
   "outputs": [],
   "source": [
    "# Implementa un programa que determine si dos cadenas son anagramas.\n",
    "\n",
    "def cadAna(str, str2):\n",
    "    \n",
    "    str = str.lower()\n",
    "    str = str.replace(' ', '')\n",
    "    \n",
    "    str2 = str2.lower()\n",
    "    str2 = str2.replace(' ', '')   \n",
    "    \n",
    "    dic1 = {}\n",
    "    dic2 = {}\n",
    "    \n",
    "    for caracter in str:\n",
    "        if not(caracter in dic1):\n",
    "            dic1[caracter] = 1\n",
    "        elif (caracter in dic1):\n",
    "            dic1[caracter] += 1\n",
    "    for caracter in str2:\n",
    "        if not(caracter in dic2):\n",
    "            dic2[caracter] = 1\n",
    "        elif (caracter in dic2):\n",
    "            dic2[caracter] += 1\n",
    "            \n",
    "    return 'Son anagramas' if dic1 == dic2 else 'No son anagramas.'\n",
    "\n",
    "cadAna('ana', 'nas')\n",
    "    \n",
    "\n"
   ]
  },
  {
   "cell_type": "code",
   "execution_count": null,
   "metadata": {},
   "outputs": [],
   "source": [
    "def pac ():\n",
    "    primos = []\n",
    "    for i in range(2, 101):\n",
    "        primo = True\n",
    "        for j in range(2, i):\n",
    "            if i % j == 0:\n",
    "                primo = False\n",
    "        primos.append(i) if primo else None\n",
    "    return primos\n",
    "\n",
    "pac()\n",
    "                "
   ]
  },
  {
   "cell_type": "code",
   "execution_count": null,
   "metadata": {},
   "outputs": [],
   "source": [
    "    def mcd(n, n1):\n",
    "        div1 = []\n",
    "        div2 = []\n",
    "        mcd = []\n",
    "        for i in range(1, n+1):\n",
    "            if n % i == 0:\n",
    "                div1.append(i)\n",
    "        for i in range (1, n1+1):\n",
    "            if n1 % i == 0:\n",
    "                div2.append(i)\n",
    "        for i in range(0, len(div1)):\n",
    "            if div1[i] in div2:\n",
    "                mcd.append(div1[i])\n",
    "        return f'El MCD es {mcd[len(mcd)-1]}'\n",
    "\n",
    "    mcd(36, 48)\n",
    "        "
   ]
  },
  {
   "cell_type": "code",
   "execution_count": null,
   "metadata": {},
   "outputs": [],
   "source": [
    "def hay2(a):\n",
    "    bool = False\n",
    "    duplex = set(a)\n",
    "    duplex = list(duplex)\n",
    "    bool = a == duplex\n",
    "    return 'No hay duplicados' if bool else 'Hay duplicados'\n",
    "\n",
    "hay2([1, 2, 3, 4, 4])"
   ]
  },
  {
   "cell_type": "code",
   "execution_count": 139,
   "metadata": {},
   "outputs": [
    {
     "name": "stdout",
     "output_type": "stream",
     "text": [
      "Las posiciones 2 y 5 suman 7\n",
      "Las posiciones 3 y 4 suman 7\n",
      "Las posiciones 4 y 3 suman 7\n",
      "Las posiciones 5 y 2 suman 7\n"
     ]
    }
   ],
   "source": [
    "def sumaObjetiva (arr, valor):\n",
    "    for i in range(0, len(arr)):\n",
    "        for j in range(0, len(arr)):\n",
    "            if not(i == j):\n",
    "                if arr[i] + arr[j] == valor:\n",
    "                    print(f'Las posiciones {i+1} y {j+1} suman {valor}')\n",
    "                    \n",
    "sumaObjetiva([1, 2, 3, 4, 5], 7)\n",
    "                "
   ]
  },
  {
   "cell_type": "code",
   "execution_count": 144,
   "metadata": {},
   "outputs": [
    {
     "data": {
      "text/plain": [
       "'Hay repetidos.'"
      ]
     },
     "execution_count": 144,
     "metadata": {},
     "output_type": "execute_result"
    }
   ],
   "source": [
    "def cu(str):\n",
    "    str = str.lower()\n",
    "    unicos = True\n",
    "    dic = {}\n",
    "    for caracter in str:\n",
    "        if not(caracter in dic):\n",
    "            dic[caracter] = 1\n",
    "        elif caracter in dic:\n",
    "            dic[caracter] += 1\n",
    "    for indice in dic:\n",
    "        if dic[indice]> 1:\n",
    "            unicos = False\n",
    "    return 'Es de caracteres unicos' if unicos else 'Hay repetidos.'\n",
    "        \n",
    "cu('holaa')\n",
    "    "
   ]
  },
  {
   "cell_type": "code",
   "execution_count": 150,
   "metadata": {},
   "outputs": [
    {
     "data": {
      "text/plain": [
       "{'la': 1, 'concha': 3, 'de': 1, 'tu': 1, 'vieja': 2}"
      ]
     },
     "execution_count": 150,
     "metadata": {},
     "output_type": "execute_result"
    }
   ],
   "source": [
    "def oc(frase):\n",
    "    frase = frase.lower()\n",
    "    frase = frase.split()\n",
    "    palabras = {}\n",
    "    for palabra in frase:\n",
    "        if not palabra in palabras:\n",
    "            palabras[palabra] = 1\n",
    "        elif palabra in palabras:\n",
    "            palabras[palabra] += 1\n",
    "    return palabras\n",
    "\n",
    "oc('LA CONCHA CONCHA conCha de tu Vieja vieja')"
   ]
  },
  {
   "cell_type": "code",
   "execution_count": 2,
   "metadata": {},
   "outputs": [
    {
     "data": {
      "text/plain": [
       "'El segundo mas grande es 6'"
      ]
     },
     "execution_count": 2,
     "metadata": {},
     "output_type": "execute_result"
    }
   ],
   "source": [
    "def smg (a):\n",
    "    a.sort()\n",
    "    return f'El segundo mas grande es {a[-1]}'\n",
    "\n",
    "smg([3, 2, 1, 3, 4, 5, 5, 3, 6, 1])"
   ]
  },
  {
   "cell_type": "code",
   "execution_count": 5,
   "metadata": {},
   "outputs": [
    {
     "data": {
      "text/plain": [
       "[4, 3, 4, 5, 1, 2, 3]"
      ]
     },
     "execution_count": 5,
     "metadata": {},
     "output_type": "execute_result"
    }
   ],
   "source": [
    "#  Rotación de una lista: Escribe una función que rote una lista hacia la izquierda o hacia la derecha por un número dado de posiciones.\n",
    "\n",
    "def rotar (arr, pos):\n",
    "    rotada = []\n",
    "    for i in range(pos, len(arr)):\n",
    "        rotada.append(arr[i])\n",
    "    for i in range (0, pos):\n",
    "        rotada.append(arr[i])\n",
    "    return rotada\n",
    "\n",
    "rotar([1, 2, 3, 4, 3, 4, 5], 3)"
   ]
  },
  {
   "cell_type": "code",
   "execution_count": 7,
   "metadata": {},
   "outputs": [
    {
     "data": {
      "text/plain": [
       "[1, 2]"
      ]
     },
     "execution_count": 7,
     "metadata": {},
     "output_type": "execute_result"
    }
   ],
   "source": [
    "# Eliminar elementos duplicados en una lista: Escribe una función que tome una lista y elimine todos los elementos duplicados, manteniendo el orden original.\n",
    "\n",
    "def limpiar(arr):\n",
    "    arr = set(arr)\n",
    "    arr = list(arr)\n",
    "    return arr\n",
    "\n",
    "limpiar([1, 1, 1, 1, 2])"
   ]
  },
  {
   "cell_type": "code",
   "execution_count": 11,
   "metadata": {},
   "outputs": [
    {
     "data": {
      "text/plain": [
       "'El string aparece 2 veces'"
      ]
     },
     "execution_count": 11,
     "metadata": {},
     "output_type": "execute_result"
    }
   ],
   "source": [
    "def substr (str, substr):\n",
    "    return f'El string aparece {str.count(substr)} veces' if str.count(substr) > 0 else 'No hay aparición de la segunda cadena en la primera'\n",
    "\n",
    "substr('holaholahola', 'lah')"
   ]
  },
  {
   "cell_type": "code",
   "execution_count": 32,
   "metadata": {},
   "outputs": [
    {
     "data": {
      "text/plain": [
       "'No es pangrama'"
      ]
     },
     "execution_count": 32,
     "metadata": {},
     "output_type": "execute_result"
    }
   ],
   "source": [
    "from unidecode import unidecode\n",
    "\n",
    "def pangrama(str = ''):\n",
    "    str = str.lower()\n",
    "    str = unidecode(str)\n",
    "    alf = {}\n",
    "    for i in range(ord('a'), ord('z') + 1):\n",
    "        alf[chr(i)] = 0\n",
    "        \n",
    "    for caracter in str:\n",
    "        if caracter in alf:\n",
    "            alf[caracter] += 1\n",
    "            \n",
    "    pangrama = True\n",
    "    for indice in alf:\n",
    "        if alf[indice] < 1:\n",
    "            pangrama = False\n",
    "            \n",
    "    return 'Es pangrama' if pangrama else 'No es pangrama'\n",
    "pangrama('abcdefghijklmnñopqrstuwxyz')\n",
    "\n",
    "        "
   ]
  },
  {
   "cell_type": "code",
   "execution_count": 39,
   "metadata": {},
   "outputs": [
    {
     "data": {
      "text/plain": [
       "{1: 4, 2: 5, 3: 7}"
      ]
     },
     "execution_count": 39,
     "metadata": {},
     "output_type": "execute_result"
    }
   ],
   "source": [
    "# Convertir una lista en un diccionario: Escribe una función que tome dos listas (una con claves y otra con valores) y las convierta en un diccionario.\n",
    "\n",
    "def lisDic(l1, l2):\n",
    "    dic = {}\n",
    "    for e in range (len(l1)):\n",
    "        dic[l1[e]] = l2[e]\n",
    "    return dic if len(l1) == len(l2) else 'Debe ingresar dos listas de igual longitud'\n",
    "\n",
    "lisDic([1, 2, 3], [4, 5, 7])"
   ]
  },
  {
   "cell_type": "code",
   "execution_count": 44,
   "metadata": {},
   "outputs": [
    {
     "data": {
      "text/plain": [
       "2.0"
      ]
     },
     "execution_count": 44,
     "metadata": {},
     "output_type": "execute_result"
    }
   ],
   "source": [
    "def sqrt(n):\n",
    "    return( n ** 0.5)\n",
    "\n",
    "sqrt(4)"
   ]
  },
  {
   "cell_type": "code",
   "execution_count": 51,
   "metadata": {},
   "outputs": [
    {
     "data": {
      "text/plain": [
       "'La lista está vacía'"
      ]
     },
     "execution_count": 51,
     "metadata": {},
     "output_type": "execute_result"
    }
   ],
   "source": [
    "# Encontrar el número mayor y el número menor en una lista de números.\n",
    "\n",
    "def mayMin (arr):\n",
    "    arr.sort()\n",
    "    return f'El número más grande es {arr[len(arr)-1]} y el menor es {arr[0]}' if len(arr) > 0 else 'La lista está vacía'\n",
    "\n",
    "mayMin([])\n"
   ]
  },
  {
   "cell_type": "code",
   "execution_count": 63,
   "metadata": {},
   "outputs": [
    {
     "data": {
      "text/plain": [
       "'Suma: 15 || Producto: 80'"
      ]
     },
     "execution_count": 63,
     "metadata": {},
     "output_type": "execute_result"
    }
   ],
   "source": [
    "# Calcular la suma y el producto de los elementos de una lista de números.\n",
    "\n",
    "def sp(arr):\n",
    "    s = 0\n",
    "    pr = 1\n",
    "    for i in range (0, len(arr)):\n",
    "        s += arr[i]\n",
    "        pr *= arr[i]\n",
    "    return f'Suma: {s} || Producto: {pr}' if len(arr) > 0 else 'La lista vino vacía'\n",
    "\n",
    "sp([2, 5, 8])"
   ]
  },
  {
   "cell_type": "code",
   "execution_count": 69,
   "metadata": {},
   "outputs": [
    {
     "data": {
      "text/plain": [
       "'No está ordenada'"
      ]
     },
     "execution_count": 69,
     "metadata": {},
     "output_type": "execute_result"
    }
   ],
   "source": [
    "# Comprobar si una lista está ordenada de forma ascendente.\n",
    "\n",
    "def cUp(arr):\n",
    "    ordenada = True\n",
    "    for i in range(len(arr)-1):\n",
    "        if arr[i] > arr[i + 1]:\n",
    "            ordenada = False\n",
    "            break\n",
    "    return 'Está ordenada' if ordenada else 'No está ordenada'\n",
    "\n",
    "cUp([1, 2, 3, 2])"
   ]
  },
  {
   "cell_type": "code",
   "execution_count": 93,
   "metadata": {},
   "outputs": [
    {
     "data": {
      "text/plain": [
       "'El resultado es 6'"
      ]
     },
     "execution_count": 93,
     "metadata": {},
     "output_type": "execute_result"
    }
   ],
   "source": [
    "def factorial (n):\n",
    "    resultado = n\n",
    "    for i in range(1, n):\n",
    "        resultado *= i\n",
    "    return f'El resultado es {resultado}' if type(n) == int else 'Ingrese un número para operar'\n",
    "factorial(3)"
   ]
  },
  {
   "cell_type": "code",
   "execution_count": 97,
   "metadata": {},
   "outputs": [
    {
     "data": {
      "text/plain": [
       "'El promedio es de 6.75'"
      ]
     },
     "execution_count": 97,
     "metadata": {},
     "output_type": "execute_result"
    }
   ],
   "source": [
    "# Calcular el promedio de una lista de números.\n",
    "\n",
    "def prom(arr):\n",
    "    r = 0\n",
    "    for i in range (len(arr)):\n",
    "        r += arr[i]\n",
    "    r = r / len(arr)\n",
    "    return f'El promedio es de {r}'\n",
    "\n",
    "prom([10, 10, 4, 3])\n"
   ]
  },
  {
   "cell_type": "code",
   "execution_count": 1,
   "metadata": {},
   "outputs": [
    {
     "data": {
      "text/plain": [
       "'hola,soy,julian'"
      ]
     },
     "execution_count": 1,
     "metadata": {},
     "output_type": "execute_result"
    }
   ],
   "source": [
    "# Convertir una lista de cadenas a una cadena única separada por comas.\n",
    "\n",
    "def coma(arr):\n",
    "    arr = ','.join(arr)\n",
    "    return arr\n",
    "\n",
    "coma(['hola', 'soy', 'julian'])\n",
    "\n",
    "\n",
    "    "
   ]
  },
  {
   "cell_type": "code",
   "execution_count": 10,
   "metadata": {},
   "outputs": [
    {
     "name": "stdout",
     "output_type": "stream",
     "text": [
      "Soy una Toyota Hilux\n"
     ]
    }
   ],
   "source": [
    "class Auto():\n",
    "    def __init__ (self, marca, modelo):\n",
    "        self.marca = marca\n",
    "        self.modelo = modelo\n",
    "    def __str__(self):\n",
    "        return f'Soy una {self.marca} {self.modelo}'\n",
    "\n",
    "Hilux = Auto('Toyota', 'Hilux')\n",
    "\n",
    "print(Hilux)"
   ]
  },
  {
   "cell_type": "code",
   "execution_count": 14,
   "metadata": {},
   "outputs": [
    {
     "name": "stdout",
     "output_type": "stream",
     "text": [
      "12\n"
     ]
    }
   ],
   "source": [
    "# Crea una clase llamada \"Rectangulo\" que tenga dos atributos: \"lado_a\" y \"lado_b\". Agrega métodos para calcular el área y el perímetro del rectángulo.\n",
    "\n",
    "class Rectangulo:\n",
    "    def __init__(self, lado_a, lado_b):\n",
    "        self.lado_a = lado_a\n",
    "        self.lado_b = lado_b\n",
    "    def area(self):\n",
    "        return self.lado_a * self.lado_b\n",
    "    def perimetro(self):\n",
    "        return self.lado_a * 2 + self.lado_b * 2 \n",
    "\n",
    "a = Rectangulo(2, 4)\n",
    "\n",
    "print(a.perimetro())"
   ]
  },
  {
   "cell_type": "code",
   "execution_count": 20,
   "metadata": {},
   "outputs": [
    {
     "data": {
      "text/plain": [
       "'Su saldo es 20000'"
      ]
     },
     "execution_count": 20,
     "metadata": {},
     "output_type": "execute_result"
    }
   ],
   "source": [
    "# Crea una clase llamada \"CuentaBancaria\" que tenga como atributos \"titular\" (nombre del titular), \"saldo\" (saldo actual) y \"numero_cuenta\" (número de cuenta). Implementa métodos para depositar dinero, retirar dinero y mostrar el saldo actual.\n",
    "\n",
    "class CuentaBancaria:\n",
    "    def __init__(self, titular, saldo, numero_cuenta):\n",
    "        self.__titular = titular\n",
    "        self.__saldo = saldo\n",
    "        self.__numero_cuenta = numero_cuenta\n",
    "    def showTitular(self):\n",
    "        return f'Bienvenido, {self.__titular}'\n",
    "    def getSaldo(self):\n",
    "        return f'Su saldo es {self.__saldo}'\n",
    "    def getAccID(self):\n",
    "        return f'Su ID es {self.__numero_cuenta}'  \n",
    "    def modSaldo(self):\n",
    "        print('Seleccione la operación que desea realizar: 1. Ingresar dinero | 2. Retirar dinero') \n",
    "        opcion = int(input())\n",
    "        if opcion == 1:\n",
    "            print('Ingrese el monto que va a ingresar')\n",
    "            monto = int(input())\n",
    "            self.__saldo += monto\n",
    "            print(f'Operación realizada con éxito. {self.getSaldo()}')\n",
    "            self.getSaldo()\n",
    "        elif opcion == 2:\n",
    "            print('Ingrese el monto que desea retirar')\n",
    "            monto = int(input())\n",
    "            self.__saldo -= monto if monto < self.__saldo else print('El monto que desea retirar es mayor al saldo de su cuenta')\n",
    "            return f'Operación realizada con éxito. {self.getSaldo()}'\n",
    "\n",
    "miCuenta = CuentaBancaria('Julian Martinez', 20000, 123)\n",
    "miCuenta.getSaldo()\n",
    "            \n",
    "    "
   ]
  },
  {
   "cell_type": "code",
   "execution_count": 32,
   "metadata": {},
   "outputs": [
    {
     "data": {
      "text/plain": [
       "'Programacion'"
      ]
     },
     "execution_count": 32,
     "metadata": {},
     "output_type": "execute_result"
    }
   ],
   "source": [
    "# Crea una clase llamada \"Persona\" con los atributos \"nombre\", \"edad\" y \"profesion\". Luego, crea una subclase de \"Persona\" llamada \"Estudiante\" que tenga un atributo adicional \"carrera\". Agrega métodos para mostrar la información de una persona y un estudiante.\n",
    "\n",
    "class Persona:\n",
    "    def __init__(self, n, e, p):\n",
    "        self.nombre = n\n",
    "        self.edad = e\n",
    "        self.profesion = p\n",
    "\n",
    "class Estudiante(Persona):\n",
    "    def __init__(self, nombre, edad, profesion, c):\n",
    "        super().__init__(nombre, edad, profesion)\n",
    "        self.carrera = c\n",
    "        \n",
    "    \n",
    "yo = Estudiante('Julian', 24, 'Docente', 'Programacion')\n",
    "\n",
    "yo.carrera"
   ]
  },
  {
   "cell_type": "code",
   "execution_count": 38,
   "metadata": {},
   "outputs": [
    {
     "data": {
      "text/plain": [
       "'El precio final con descuento es 270.0'"
      ]
     },
     "execution_count": 38,
     "metadata": {},
     "output_type": "execute_result"
    }
   ],
   "source": [
    "# Crea una clase llamada \"Producto\" con los atributos \"nombre\" y \"precio\". Luego, crea una subclase de \"Producto\" llamada \"ProductoDescuento\" que tenga un atributo adicional \"descuento\" (un valor entre 0 y 1 que representa el porcentaje de descuento). Implementa un método para calcular el precio final con el descuento aplicado.\n",
    "\n",
    "class Producto:\n",
    "    def __init__(this, nombre, precio):\n",
    "        this.nombre = nombre\n",
    "        this.precio = precio\n",
    "        \n",
    "class ProductoDescuento(Producto):\n",
    "    def __init__(this, nombre, precio, descuento):\n",
    "        super().__init__(nombre, precio)\n",
    "        this.descuento = descuento\n",
    "    def precioFinal(this):\n",
    "        return f'El precio final con descuento es {this.precio * (1 - this.descuento)}'\n",
    "    \n",
    "zucaritas = ProductoDescuento('Zucaritas', 300, 0.1)\n",
    "\n",
    "zucaritas.precioFinal()\n",
    "\n"
   ]
  },
  {
   "cell_type": "code",
   "execution_count": 42,
   "metadata": {},
   "outputs": [
    {
     "data": {
      "text/plain": [
       "'El area de la circunferencia que ingreso es 1520.53084433746'"
      ]
     },
     "execution_count": 42,
     "metadata": {},
     "output_type": "execute_result"
    }
   ],
   "source": [
    "# Crea una clase llamada \"Circulo\" que tenga un atributo \"radio\". Agrega métodos para calcular el área y la circunferencia del círculo.\n",
    "import math\n",
    "\n",
    "class Circulo:\n",
    "    PI = math.pi\n",
    "    def __init__(self, radio):\n",
    "        self.radio = radio\n",
    "    def area(self):\n",
    "        return f'El area de la circunferencia que ingreso es {self.PI * (self.radio ** 2)}'\n",
    "    def perimetro(self):\n",
    "        return f'El perímetro de la circunferencia es {2 * self.PI * self.radio}'\n",
    "    \n",
    "h = Circulo(22)\n",
    "h.area()"
   ]
  },
  {
   "cell_type": "code",
   "execution_count": 49,
   "metadata": {},
   "outputs": [
    {
     "name": "stdout",
     "output_type": "stream",
     "text": [
      "Guau! Soy Scooby\n"
     ]
    }
   ],
   "source": [
    "# Crea una clase llamada \"Perro\" con los atributos \"nombre\" y \"edad\". Agrega un método para imprimir la información del perro en una cadena de texto.\n",
    "\n",
    "class Perro:\n",
    "    def __init__(self, nombre, edad):\n",
    "        self.nombre = nombre\n",
    "        self.edad = edad\n",
    "    def __str__(self):\n",
    "        return f'Guau! Soy {self.nombre}'\n",
    "\n",
    "scooby = Perro('Scooby', 10)\n",
    "print(scooby)"
   ]
  },
  {
   "cell_type": "code",
   "execution_count": 51,
   "metadata": {},
   "outputs": [],
   "source": [
    "# Crea una clase llamada \"TrianguloEquilatero\" que herede de la clase \"Triangulo\" y tenga un método para calcular el área de un triángulo equilátero.\n",
    "\n"
   ]
  },
  {
   "cell_type": "code",
   "execution_count": 53,
   "metadata": {},
   "outputs": [
    {
     "name": "stdout",
     "output_type": "stream",
     "text": [
      "holahola\n"
     ]
    },
    {
     "data": {
      "text/plain": [
       "'Hola, mundo!'"
      ]
     },
     "execution_count": 53,
     "metadata": {},
     "output_type": "execute_result"
    }
   ],
   "source": [
    "def miFuncion(f):\n",
    "    print('holahola')\n",
    "    return f\n",
    "\n",
    "@miFuncion\n",
    "def saludar():\n",
    "    return 'Hola, mundo!'\n",
    "\n",
    "saludar()"
   ]
  },
  {
   "cell_type": "code",
   "execution_count": null,
   "metadata": {},
   "outputs": [
    {
     "name": "stdout",
     "output_type": "stream",
     "text": [
      "Inicializando ejecución de la función suma\n",
      "5\n",
      "Finalizando ejecución de función suma\n",
      "Inicializando ejecución de la función suma\n",
      "Hola!\n",
      "Finalizando ejecución de función suma\n"
     ]
    }
   ],
   "source": [
    "# A partir de aquí voy a hacer algunos ejercicios con decoradores\n",
    "\n",
    "def logger(f):\n",
    "    def segFunction(*args, **kwargs):\n",
    "        print('Inicializando ejecución de la función suma')\n",
    "        f(*args, **kwargs)\n",
    "        print('Finalizando ejecución de función suma')\n",
    "    return segFunction\n",
    "\n",
    "@logger\n",
    "def suma(a, b):\n",
    "    print(a + b)\n",
    "    \n",
    "@logger\n",
    "def saluda():\n",
    "    print('Hola!')\n",
    "\n",
    "suma(2, 3)\n",
    "saluda()"
   ]
  },
  {
   "cell_type": "code",
   "execution_count": 27,
   "metadata": {},
   "outputs": [
    {
     "data": {
      "text/plain": [
       "'MHP181'"
      ]
     },
     "execution_count": 27,
     "metadata": {},
     "output_type": "execute_result"
    }
   ],
   "source": [
    "class Motocicleta:\n",
    "    estado = 'Nueva'\n",
    "    motor = False\n",
    "    def __init__(self, color, matricula, combustible_litros, numero_ruedas, marca, modelo, fecha_fabricacion, velocidad_punta, peso):\n",
    "        self.color = color\n",
    "        self.__matricula = matricula\n",
    "        self.combustible_litros = combustible_litros\n",
    "        self.numero_ruedas = numero_ruedas\n",
    "        self.marca = marca\n",
    "        self.modelo = modelo\n",
    "        self.fecha_fabricacion = fecha_fabricacion\n",
    "        self.velocidad_punta = velocidad_punta\n",
    "        self.peso = peso\n",
    "    def arrancar(self):\n",
    "        if self.motor == False:\n",
    "            self.motor = True\n",
    "            return 'El motor ha arrancado'\n",
    "        elif self.motor == True:\n",
    "            return 'El motor ya estaba funcionando.'     \n",
    "    def detener(self):\n",
    "        if self.motor == False:\n",
    "            return 'El motor ya está apagado'\n",
    "        elif self.motor == True:\n",
    "            self.motor = False\n",
    "            return 'El motor se ha detenido.'\n",
    "    def consulta_precio(self):\n",
    "\t    return f\"El precio de la motocicleta {self.marca} {self.modelo} es de €{self.precio}\"\n",
    "    @property\n",
    "    def patente(self):\n",
    "        return self.__matricula\n",
    "\n",
    "    \n",
    "        \n",
    "    \n",
    "cientodiez = Motocicleta('Roja', 'MHP181', 10, 2, 'YAMAHA', 110, 2010, 140, 70 )\n",
    "\n",
    "cientodiez.arrancar()\n",
    "cientodiez.arrancar()\n",
    "cientodiez.precio = 35000\n",
    "\n",
    "cientodiez.precio\n",
    "\n",
    "cientodiez.consulta_precio()\n",
    "cientodiez.patente\n",
    "\n",
    "\n"
   ]
  },
  {
   "cell_type": "code",
   "execution_count": 32,
   "metadata": {},
   "outputs": [
    {
     "data": {
      "text/plain": [
       "{'estoy nadando!', 'estoy volando!'}"
      ]
     },
     "execution_count": 32,
     "metadata": {},
     "output_type": "execute_result"
    }
   ],
   "source": [
    "class Volador:\n",
    "    def volar(self):\n",
    "        return 'estoy volando!'\n",
    "    \n",
    "class Nadador:\n",
    "    def nadar(self):\n",
    "        return 'estoy nadando!'\n",
    "    \n",
    "class Ganso(Volador, Nadador):\n",
    "    pass\n",
    "\n",
    "ganso = Ganso()\n",
    "\n",
    "{ganso.volar(), ganso.nadar()}"
   ]
  },
  {
   "cell_type": "code",
   "execution_count": 42,
   "metadata": {},
   "outputs": [
    {
     "name": "stdout",
     "output_type": "stream",
     "text": [
      "El total de su compra es de $8600\n"
     ]
    }
   ],
   "source": [
    "# Sistema de Ventas:\n",
    "# Diseña una clase Producto con atributos como nombre, precio, y cantidad_disponible. Luego, crea una clase CarritoDeCompras que pueda agregar y eliminar productos, calcular el total de la compra y generar un recibo.\n",
    "\n",
    "from datetime import date\n",
    "\n",
    "class Producto:\n",
    "    def __init__(self, nombre, precio, cantidad):\n",
    "        self.nombre = nombre\n",
    "        self.precio = precio\n",
    "        self.cantidad = cantidad\n",
    "        \n",
    "class CarritoDeCompras:\n",
    "    carrito = []\n",
    "    producto = {}\n",
    "    def agregarProducto(self, p):\n",
    "        self.producto['nombre'] = p.nombre\n",
    "        self.producto['precio'] = p.precio\n",
    "        self.producto['cantidad'] = p.cantidad\n",
    "        self.carrito.append(self.producto)\n",
    "        self.producto = {}\n",
    "    @property    \n",
    "    def changomas (self):\n",
    "        return self.carrito\n",
    "    @property\n",
    "    def total(self):\n",
    "        tt = 0\n",
    "        for producto in self.carrito:\n",
    "            tt = tt + (producto['precio'] * producto['cantidad'])\n",
    "        return tt\n",
    "carrito = CarritoDeCompras()\n",
    "turron = Producto('Turron de maní', 80, 10)\n",
    "cocaCola = Producto('Coca-Cola', 600, 13)\n",
    "carrito.agregarProducto(turron)\n",
    "carrito.agregarProducto(cocaCola)\n",
    "carrito.changomas\n",
    "\n",
    "print(f'El total de su compra es de ${carrito.total}')\n",
    "\n",
    "    "
   ]
  },
  {
   "cell_type": "code",
   "execution_count": 13,
   "metadata": {},
   "outputs": [
    {
     "data": {
      "text/plain": [
       "'No te puedes atacar a tí mismo. Sigues con 93 HP'"
      ]
     },
     "execution_count": 13,
     "metadata": {},
     "output_type": "execute_result"
    }
   ],
   "source": [
    "\n",
    "class Personaje:\n",
    "    alive = True\n",
    "    vida = 0\n",
    "    def __init__(self, nombre, vida, AD):\n",
    "        self.nombre = nombre\n",
    "        self.vida = vida\n",
    "        self.AD = AD\n",
    "    if vida < 1:\n",
    "        pass\n",
    "    def atacar(self, personaje):\n",
    "        if personaje != self:\n",
    "            personaje.vida -= self.AD\n",
    "        else:\n",
    "            return f'No te puedes atacar a tí mismo. Sigues con {self.vida} HP'        \n",
    "   \n",
    "        \n",
    "sub_zero = Personaje('SubZero', 100, 7)\n",
    "scorpion = Personaje('Scorpion', 100, 8.5)\n",
    "\n",
    "sub_zero.atacar(scorpion)\n",
    "scorpion.vida\n",
    "scorpion.atacar(scorpion)"
   ]
  },
  {
   "cell_type": "code",
   "execution_count": 15,
   "metadata": {},
   "outputs": [
    {
     "name": "stdout",
     "output_type": "stream",
     "text": [
      "a = 10\n",
      "b = 20\n",
      "args = 1\n",
      "args = 2\n",
      "args = 3\n",
      "args = 4\n",
      "x = Hola\n",
      "y = Que\n",
      "z = Tal\n"
     ]
    }
   ],
   "source": [
    "def funcion(a, b, *args, **kwargs):\n",
    "    print(\"a =\", a)\n",
    "    print(\"b =\", b)\n",
    "    for arg in args:\n",
    "        print(\"args =\", arg)\n",
    "    for key, value in kwargs.items():\n",
    "        print(key, \"=\", value)\n",
    "\n",
    "args = [1, 2, 3, 4]\n",
    "kwargs = {'x':\"Hola\", 'y':\"Que\", 'z':\"Tal\"}\n",
    "\n",
    "funcion(10, 20, *args, **kwargs)"
   ]
  },
  {
   "cell_type": "code",
   "execution_count": 24,
   "metadata": {},
   "outputs": [
    {
     "name": "stdout",
     "output_type": "stream",
     "text": [
      "1\n",
      "2\n",
      "3\n"
     ]
    }
   ],
   "source": [
    "def generador():\n",
    "    n = 1\n",
    "    yield n\n",
    "    n += 1\n",
    "    yield n\n",
    "    n += 1\n",
    "    yield n\n",
    "    n += n\n",
    "\n",
    "g = generador()\n",
    "\n",
    "for i in g:\n",
    "    print(i)\n",
    "\n"
   ]
  },
  {
   "cell_type": "code",
   "execution_count": 1,
   "metadata": {},
   "outputs": [
    {
     "ename": "NameError",
     "evalue": "name 'GENERADORES' is not defined",
     "output_type": "error",
     "traceback": [
      "\u001b[1;31m---------------------------------------------------------------------------\u001b[0m",
      "\u001b[1;31mNameError\u001b[0m                                 Traceback (most recent call last)",
      "Cell \u001b[1;32mIn[1], line 1\u001b[0m\n\u001b[1;32m----> 1\u001b[0m GENERADORES\n\u001b[0;32m      3\u001b[0m lista \u001b[39m=\u001b[39m [\u001b[39m1\u001b[39m, \u001b[39m2\u001b[39m, \u001b[39m3\u001b[39m]\n\u001b[0;32m      5\u001b[0m al2 \u001b[39m=\u001b[39m (item \u001b[39m*\u001b[39m\u001b[39m*\u001b[39m \u001b[39m2\u001b[39m \u001b[39mfor\u001b[39;00m item \u001b[39min\u001b[39;00m lista)\n",
      "\u001b[1;31mNameError\u001b[0m: name 'GENERADORES' is not defined"
     ]
    }
   ],
   "source": [
    "# GENERADORES\n",
    "\n",
    "lista = [1, 2, 3]\n",
    "\n",
    "al2 = (item ** 2 for item in lista)\n",
    "\n",
    "print(al2)  \n",
    "next(al2)\n",
    "next(al2)\n",
    "next(al2)\n"
   ]
  },
  {
   "cell_type": "code",
   "execution_count": null,
   "metadata": {},
   "outputs": [],
   "source": []
  },
  {
   "cell_type": "code",
   "execution_count": 71,
   "metadata": {},
   "outputs": [],
   "source": [
    "# Desarrollar una clase RedSocial que permita crear perfiles de usuarios, agregar amigos, publicar mensajes y dar \"me gusta\" a las publicaciones.\n",
    "\n",
    "class RedSocial:\n",
    "    \n",
    "    users = [] \n",
    "    cantUsers = 0\n",
    "    \n",
    "    def __init__(self, nombre, maxUsers):\n",
    "        self.nombre = nombre\n",
    "        self.maxUsers = maxUsers\n",
    "    \n",
    "    def addUser (self, usuario):\n",
    "        self.users.append(usuario)\n",
    "        \n",
    "    def registrarse(self, user):\n",
    "        if self.cantUsers < self.maxUsers:\n",
    "            data = {\n",
    "                \n",
    "            }\n",
    "            data['name'] = user.name\n",
    "            data['age']= user.age\n",
    "            data['ID'] = user.id\n",
    "            \n",
    "            self.addUser(data)\n",
    "            \n",
    "            data = {}\n",
    "            \n",
    "            self.plusUser()\n",
    "        else: \n",
    "            print(f'Se ha alcanzado el número máximo de usuarios. No podemos registrar a {user.name}')\n",
    "    \n",
    "    \n",
    "    def plusUser(self):\n",
    "        self.cantUsers += 1\n",
    "        \n",
    "    @property\n",
    "    def showUsers(self):\n",
    "        print(self.users)\n",
    "        \n",
    "        \n",
    "        \n",
    "class Usuario:\n",
    "    last_id = 0\n",
    "    connections = []\n",
    "    connections_request = []\n",
    "    def __init__(self, name, age):\n",
    "      self.name = name\n",
    "      self.age = age\n",
    "      self.id = Usuario.generate_id()\n",
    "    @classmethod\n",
    "    def generate_id(self):\n",
    "        self.last_id += 1\n",
    "        return self.last_id\n",
    "    def requestConnection(self, usuario):\n",
    "        dic = {'nombre': self.name, 'id': self.id}\n",
    "        if dic not in [usuario.connections, usuario.connections_request]:\n",
    "            usuario.connections_request.append(dic)\n",
    "        elif dic in usuario.connections:\n",
    "            print(f'Ya estás entre los amigos de {usuario.name}')\n",
    "        elif dic in usuario.connections_request:\n",
    "            print(f'Ya has enviado una solicitud de amistad.')\n",
    "    @property\n",
    "    def showCReqs(self):\n",
    "        if len(self.connections_request) > 0:\n",
    "            for req in self.connections_request:\n",
    "                print (f'{req[\"nombre\"]} (ID: {req[\"id\"]}) te ha enviado una solicitud de conección.')\n",
    "        elif len(self.connections_request) < 1:\n",
    "            print ('No tienes solicitudes de conección.')\n",
    "        \n",
    "        \n",
    "    def accCReqs(self, nombre, id):\n",
    "        conn = {'nombre': nombre, 'id': id}\n",
    "        for i in range (len(self.connections_request)):\n",
    "            if self.connections_request[i] == conn:\n",
    "                self.connections.append(conn)\n",
    "                del self.connections_request[i] \n",
    "    \n",
    "    @property\n",
    "    def showConn(self):\n",
    "        print('Amigos:')\n",
    "        for conn in self.connections:\n",
    "            print(f\"    Nombre: {conn['nombre']} (ID: {conn['id']})\")         \n",
    "      \n",
    "    \n",
    "    \n",
    "facebook = RedSocial('Facebook', 10)\n",
    "julian_martinez = Usuario('Julian Martinez', 24)\n",
    "manuel_martinez = Usuario('Manucho Martinez', 20)\n",
    "nicolas_martinez = Usuario('Nicolas Martinez', 17)\n",
    "\n",
    "facebook.registrarse(julian_martinez)\n",
    "facebook.registrarse(manuel_martinez)\n",
    "facebook.registrarse(nicolas_martinez)\n",
    "facebook.registrarse(manuel_martinez)\n",
    "\n",
    "julian_martinez.requestConnection(nicolas_martinez)\n",
    "\n",
    "nicolas_martinez.connections_request\n",
    "nicolas_martinez.accCReqs('Julian Martinez', 1)\n",
    "julian_martinez.requestConnection(nicolas_martinez)\n",
    "julian_martinez.requestConnection(nicolas_martinez)\n",
    "\n",
    "\n",
    "\n"
   ]
  }
 ],
 "metadata": {
  "kernelspec": {
   "display_name": "Python 3",
   "language": "python",
   "name": "python3"
  },
  "language_info": {
   "codemirror_mode": {
    "name": "ipython",
    "version": 3
   },
   "file_extension": ".py",
   "mimetype": "text/x-python",
   "name": "python",
   "nbconvert_exporter": "python",
   "pygments_lexer": "ipython3",
   "version": "3.10.11"
  },
  "orig_nbformat": 4
 },
 "nbformat": 4,
 "nbformat_minor": 2
}
